{
 "cells": [
  {
   "cell_type": "code",
   "execution_count": 4,
   "metadata": {},
   "outputs": [],
   "source": [
    "import numpy as np\n",
    "from sklearn.datasets import make_classification\n",
    "from sklearn.model_selection import train_test_split\n",
    "from qml_benchmarks.models.data_reuploading import DataReuploadingClassifier\n",
    "\n",
    "from qml_benchmarks.models.projected_quantum_kernel import ProjectedQuantumKernel\n",
    "\n",
    "import qml_benchmarks.data.hidden_manifold as hidden_manifold"
   ]
  },
  {
   "cell_type": "code",
   "execution_count": 17,
   "metadata": {},
   "outputs": [],
   "source": [
    "daten=hidden_manifold.generate_hidden_manifold_model(200, 10, 5)\n",
    "X=daten[0]\n",
    "y=daten[1]\n",
    "\n",
    "# split data\n",
    "X_train, X_test, y_train, y_test = train_test_split(X, y, test_size=0.2)\n"
   ]
  },
  {
   "cell_type": "code",
   "execution_count": 21,
   "metadata": {},
   "outputs": [
    {
     "name": "stdout",
     "output_type": "stream",
     "text": [
      "Train Set: 0.9625\n",
      "Test Set: 0.625\n"
     ]
    }
   ],
   "source": [
    "# fit model\n",
    "model = ProjectedQuantumKernel()\n",
    "model.fit(X_train, y_train)\n",
    "\n",
    "# score the model\n",
    "print(\"Train Set:\", model.score(X_train, y_train))\n",
    "print(\"Test Set:\", model.score(X_test, y_test))"
   ]
  },
  {
   "cell_type": "code",
   "execution_count": null,
   "metadata": {},
   "outputs": [],
   "source": []
  },
  {
   "cell_type": "code",
   "execution_count": null,
   "metadata": {},
   "outputs": [],
   "source": []
  },
  {
   "cell_type": "code",
   "execution_count": null,
   "metadata": {},
   "outputs": [],
   "source": []
  },
  {
   "cell_type": "code",
   "execution_count": null,
   "metadata": {},
   "outputs": [],
   "source": []
  },
  {
   "cell_type": "code",
   "execution_count": null,
   "metadata": {},
   "outputs": [],
   "source": [
    "# load data and use labels -1, 1\n",
    "X, y = make_classification(n_samples=100, n_features=2,\n",
    "                           n_informative=2, n_redundant=0, random_state=42)\n",
    "y = np.array([-1 if y_ == 0 else 1 for y_ in y])\n",
    "\n",
    "# split data\n",
    "X_train, X_test, y_train, y_test = train_test_split(X, y, test_size=0.2)\n"
   ]
  },
  {
   "cell_type": "code",
   "execution_count": 18,
   "metadata": {},
   "outputs": [
    {
     "name": "stderr",
     "output_type": "stream",
     "text": [
      "/home/codespace/.local/lib/python3.12/site-packages/pennylane/templates/broadcast.py:563: PennyLaneDeprecationWarning: qml.broadcast is deprecated and will be removed in v0.40. Please use a for loop instead\n",
      "  warn(\n"
     ]
    },
    {
     "name": "stdout",
     "output_type": "stream",
     "text": [
      "0.625\n"
     ]
    }
   ],
   "source": [
    "# fit model\n",
    "model = DataReuploadingClassifier()\n",
    "model.fit(X_train, y_train)\n",
    "\n",
    "# score the model\n",
    "print(model.score(X_test, y_test))"
   ]
  }
 ],
 "metadata": {
  "kernelspec": {
   "display_name": "Python 3",
   "language": "python",
   "name": "python3"
  },
  "language_info": {
   "codemirror_mode": {
    "name": "ipython",
    "version": 3
   },
   "file_extension": ".py",
   "mimetype": "text/x-python",
   "name": "python",
   "nbconvert_exporter": "python",
   "pygments_lexer": "ipython3",
   "version": "3.12.1"
  }
 },
 "nbformat": 4,
 "nbformat_minor": 2
}
